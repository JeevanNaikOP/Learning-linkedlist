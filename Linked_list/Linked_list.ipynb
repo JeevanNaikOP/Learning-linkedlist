{
    "cells": [
        {
            "cell_type": "code",
            "execution_count": 9,
            "source": [
                "class node:\n",
                "    def __init__(self,dataval=None,nextval=None):\n",
                "        self.dataval=dataval\n",
                "        self.nextval=nextval\n",
                "\n",
                "    def __repr__(self):\n",
                "        return repr(self.dataval)    \n",
                "        \n"
            ],
            "outputs": [],
            "metadata": {}
        },
        {
            "cell_type": "code",
            "execution_count": 22,
            "source": [
                "class linked_list:\n",
                "    def __init__(self) -> None:\n",
                "        self.head= None\n",
                "\n",
                "    def __repr__(self):\n",
                "        nodes=[]\n",
                "        curr=self.head\n",
                "        while curr:\n",
                "            nodes.append(repr(curr))\n",
                "            curr=curr.nextval\n",
                "\n",
                "        return '['+'->'.join(nodes)+']'\n",
                "\n",
                "    def prepend(self,dataval):\n",
                "        self.head=node(dataval,self.head)\n",
                "\n",
                "    def append(self,dataval):\n",
                "        if not self.head:\n",
                "            self.head=node(dataval=dataval)\n",
                "            return\n",
                "\n",
                "        curr=self.head\n",
                "        while curr.nextval:\n",
                "            curr=curr.nextval\n",
                "\n",
                "        curr.nextval=node(dataval=dataval)     \n",
                "\n",
                "    def add_after(self,midval,dataval):\n",
                "        if not midval:\n",
                "            print('data to insert after not specified')\n",
                "            return\n",
                "\n",
                "        curr=self.head\n",
                "        while curr and curr.dataval!=midval:\n",
                "            curr=curr.nextval\n",
                "\n",
                "        newnode=node(dataval)\n",
                "        newnode.nextval=curr.nextval\n",
                "        curr.nextval=newnode    \n",
                "\n",
                "    def find(self,data):\n",
                "         curr=self.head\n",
                "         while curr and curr.dataval != data:\n",
                "             curr=curr.nextval\n",
                "\n",
                "         return curr\n",
                "\n",
                "    def remove(self,data):\n",
                "        curr=self.head\n",
                "        prev=None\n",
                "        while curr and curr.dataval!= data:\n",
                "            prev=curr\n",
                "            curr=curr.nextval\n",
                "\n",
                "        if not prev:\n",
                "            self.head=curr.nextval\n",
                "\n",
                "        elif curr:\n",
                "            prev.nextval=curr.nextval\n",
                "            curr.dataval=None\n",
                "\n",
                "    def reverse(self):\n",
                "        curr=self.head\n",
                "        prev=None\n",
                "        next=None\n",
                "        while curr:\n",
                "            next=curr.nextval\n",
                "            curr.nextval=prev\n",
                "            prev=curr\n",
                "            curr=next\n",
                "\n",
                "        self.head=prev    \n",
                "\n",
                "    def count(self):\n",
                "        if self.head == None:\n",
                "            return 0\n",
                "        else:\n",
                "            curr=self.head\n",
                "            count=0\n",
                "            while(curr!=None):\n",
                "                curr=curr.nextval\n",
                "                count+=1\n",
                "\n",
                "            return count        \n",
                "\n"
            ],
            "outputs": [],
            "metadata": {}
        },
        {
            "cell_type": "code",
            "execution_count": 23,
            "source": [
                "num=linked_list()\n",
                "num"
            ],
            "outputs": [
                {
                    "output_type": "execute_result",
                    "data": {
                        "text/plain": [
                            "[]"
                        ]
                    },
                    "metadata": {},
                    "execution_count": 23
                }
            ],
            "metadata": {}
        },
        {
            "cell_type": "code",
            "execution_count": 24,
            "source": [
                "num.append('two')\n",
                "num.append('three')\n",
                "num"
            ],
            "outputs": [
                {
                    "output_type": "execute_result",
                    "data": {
                        "text/plain": [
                            "['two'->'three']"
                        ]
                    },
                    "metadata": {},
                    "execution_count": 24
                }
            ],
            "metadata": {}
        },
        {
            "cell_type": "code",
            "execution_count": 26,
            "source": [
                "num.prepend('one')\n",
                "num"
            ],
            "outputs": [
                {
                    "output_type": "execute_result",
                    "data": {
                        "text/plain": [
                            "['one'->'one'->'two'->'three']"
                        ]
                    },
                    "metadata": {},
                    "execution_count": 26
                }
            ],
            "metadata": {}
        },
        {
            "cell_type": "code",
            "execution_count": 27,
            "source": [
                "num.append('four')\n",
                "num.append('six')\n",
                "num"
            ],
            "outputs": [
                {
                    "output_type": "execute_result",
                    "data": {
                        "text/plain": [
                            "['one'->'one'->'two'->'three'->'four'->'six']"
                        ]
                    },
                    "metadata": {},
                    "execution_count": 27
                }
            ],
            "metadata": {}
        },
        {
            "cell_type": "code",
            "execution_count": 28,
            "source": [
                "num.add_after('four','five')\n",
                "num"
            ],
            "outputs": [
                {
                    "output_type": "execute_result",
                    "data": {
                        "text/plain": [
                            "['one'->'one'->'two'->'three'->'four'->'five'->'six']"
                        ]
                    },
                    "metadata": {},
                    "execution_count": 28
                }
            ],
            "metadata": {}
        },
        {
            "cell_type": "code",
            "execution_count": 31,
            "source": [
                "num.reverse()\n",
                "num"
            ],
            "outputs": [
                {
                    "output_type": "execute_result",
                    "data": {
                        "text/plain": [
                            "['six'->'five'->'four'->'three'->'two'->'one'->'one']"
                        ]
                    },
                    "metadata": {},
                    "execution_count": 31
                }
            ],
            "metadata": {}
        },
        {
            "cell_type": "code",
            "execution_count": 32,
            "source": [
                "num.remove('one')\n",
                "num"
            ],
            "outputs": [
                {
                    "output_type": "execute_result",
                    "data": {
                        "text/plain": [
                            "['six'->'five'->'four'->'three'->'two'->'one']"
                        ]
                    },
                    "metadata": {},
                    "execution_count": 32
                }
            ],
            "metadata": {}
        },
        {
            "cell_type": "code",
            "execution_count": 33,
            "source": [
                "num.count()"
            ],
            "outputs": [
                {
                    "output_type": "execute_result",
                    "data": {
                        "text/plain": [
                            "6"
                        ]
                    },
                    "metadata": {},
                    "execution_count": 33
                }
            ],
            "metadata": {}
        },
        {
            "cell_type": "code",
            "execution_count": null,
            "source": [],
            "outputs": [],
            "metadata": {}
        }
    ],
    "metadata": {
        "orig_nbformat": 4,
        "language_info": {
            "name": "python",
            "version": "3.8.10",
            "mimetype": "text/x-python",
            "codemirror_mode": {
                "name": "ipython",
                "version": 3
            },
            "pygments_lexer": "ipython3",
            "nbconvert_exporter": "python",
            "file_extension": ".py"
        },
        "kernelspec": {
            "name": "python3",
            "display_name": "Python 3.8.10 64-bit"
        },
        "interpreter": {
            "hash": "916dbcbb3f70747c44a77c7bcd40155683ae19c65e1c03b4aa3499c5328201f1"
        }
    },
    "nbformat": 4,
    "nbformat_minor": 2
}
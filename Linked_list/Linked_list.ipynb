{
    "cells": [
        {
            "cell_type": "code",
            "execution_count": 1,
            "source": [
                "class node:\n",
                "    def __init__(self,dataval=None,nextval=None):\n",
                "        self.dataval=dataval\n",
                "        self.nextval=nextval\n",
                "\n",
                "    def __repr__(self):\n",
                "        return repr(self.dataval)    \n",
                "        \n"
            ],
            "outputs": [],
            "metadata": {}
        },
        {
            "cell_type": "code",
            "execution_count": 5,
            "source": [
                "class linked_list:\n",
                "    def __init__(self) -> None:\n",
                "        self.head= None\n",
                "\n",
                "    def __repr__(self):\n",
                "        nodes=[]\n",
                "        curr=self.head\n",
                "        while curr:\n",
                "            nodes.append(repr(curr))\n",
                "            curr=curr.nextval\n",
                "\n",
                "        return '['+'->'.join(nodes)+']'\n",
                "\n",
                "    def prepend(self,dataval):\n",
                "        self.head=node(dataval,self.head)\n",
                "\n",
                "    def append(self,dataval):\n",
                "        if not self.head:\n",
                "            self.node=node(dataval)\n",
                "            return\n",
                "\n",
                "        curr=self.head\n",
                "        while curr.nextval:\n",
                "            curr=curr.nextval\n",
                "\n",
                "        curr.nextval=node(dataval)            \n",
                "\n"
            ],
            "outputs": [],
            "metadata": {}
        },
        {
            "cell_type": "code",
            "execution_count": null,
            "source": [],
            "outputs": [],
            "metadata": {}
        }
    ],
    "metadata": {
        "orig_nbformat": 4,
        "language_info": {
            "name": "python",
            "version": "3.8.10",
            "mimetype": "text/x-python",
            "codemirror_mode": {
                "name": "ipython",
                "version": 3
            },
            "pygments_lexer": "ipython3",
            "nbconvert_exporter": "python",
            "file_extension": ".py"
        },
        "kernelspec": {
            "name": "python3",
            "display_name": "Python 3.8.10 64-bit"
        },
        "interpreter": {
            "hash": "916dbcbb3f70747c44a77c7bcd40155683ae19c65e1c03b4aa3499c5328201f1"
        }
    },
    "nbformat": 4,
    "nbformat_minor": 2
}
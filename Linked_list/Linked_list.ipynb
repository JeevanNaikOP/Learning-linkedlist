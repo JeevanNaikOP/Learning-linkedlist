{
    "cells": [
        {
            "cell_type": "code",
            "execution_count": 1,
            "source": [
                "class node:\n",
                "    def __init__(self,dataval=None,nextval=None):\n",
                "        self.dataval=dataval\n",
                "        self.nextval=nextval\n",
                "\n",
                "    def __repr__(self):\n",
                "        return repr(self.dataval)    \n",
                "        \n"
            ],
            "outputs": [],
            "metadata": {}
        },
        {
            "cell_type": "code",
            "execution_count": 3,
            "source": [
                "class linked_list:\n",
                "    def __init__(self) -> None:\n",
                "        self.head= None\n",
                "\n",
                "    def __repr__(self):\n",
                "        nodes=[]\n",
                "        curr=self.head\n",
                "        while curr:\n",
                "            nodes.append(repr(curr))\n",
                "            curr=curr.nextval\n",
                "\n",
                "        return '['+'->'.join(nodes)+']'\n",
                "\n",
                "    def prepend(self,dataval):\n",
                "        self.head=node(dataval,self.head)\n",
                "\n",
                "    def append(self,dataval):\n",
                "        if not self.head:\n",
                "            self.node=node(dataval)\n",
                "            return\n",
                "\n",
                "        curr=self.head\n",
                "        while curr.nextval:\n",
                "            curr=curr.nextval\n",
                "\n",
                "        curr.nextval=node(dataval)     \n",
                "\n",
                "    def add_after(self,midval,dataval):\n",
                "        if not midval:\n",
                "            print('data to insert after not specified')\n",
                "            return\n",
                "\n",
                "        curr=self.head\n",
                "        while curr and curr.dataval!=midval:\n",
                "            curr=curr.nextval\n",
                "\n",
                "        newnode=node(dataval)\n",
                "        newnode.nextval=curr.nextval\n",
                "        curr.nextval=newnode    \n",
                "\n",
                "    def find(self,data):\n",
                "         curr=self.head\n",
                "         while curr and curr.dataval != data:\n",
                "             curr=curr.nextval\n",
                "\n",
                "         return curr\n",
                "\n",
                "    def remove(self,data):\n",
                "        curr=self.head\n",
                "        prev=None\n",
                "        while curr and curr.dataval!= data:\n",
                "            prev=curr\n",
                "            curr=curr.nextval\n",
                "\n",
                "        if not prev:\n",
                "            self.head=curr.nextval\n",
                "\n",
                "        elif curr:\n",
                "            prev.nextval=curr.nextval\n",
                "            curr.dataval=None\n",
                "\n",
                "    def reverse(self):\n",
                "        curr=self.head\n",
                "        prev=None\n",
                "        next=None\n",
                "        while curr:\n",
                "            next=curr.nextval\n",
                "            curr.nextval=prev\n",
                "            prev=curr\n",
                "            curr=next\n",
                "\n",
                "        self.head=prev    \n",
                "\n",
                "\n",
                "\n"
            ],
            "outputs": [
                {
                    "output_type": "error",
                    "ename": "IndentationError",
                    "evalue": "unindent does not match any outer indentation level (<tokenize>, line 41)",
                    "traceback": [
                        "\u001b[0;36m  File \u001b[0;32m\"<tokenize>\"\u001b[0;36m, line \u001b[0;32m41\u001b[0m\n\u001b[0;31m    def find(self,data):\u001b[0m\n\u001b[0m    ^\u001b[0m\n\u001b[0;31mIndentationError\u001b[0m\u001b[0;31m:\u001b[0m unindent does not match any outer indentation level\n"
                    ]
                }
            ],
            "metadata": {}
        },
        {
            "cell_type": "code",
            "execution_count": null,
            "source": [],
            "outputs": [],
            "metadata": {}
        }
    ],
    "metadata": {
        "orig_nbformat": 4,
        "language_info": {
            "name": "python",
            "version": "3.8.10",
            "mimetype": "text/x-python",
            "codemirror_mode": {
                "name": "ipython",
                "version": 3
            },
            "pygments_lexer": "ipython3",
            "nbconvert_exporter": "python",
            "file_extension": ".py"
        },
        "kernelspec": {
            "name": "python3",
            "display_name": "Python 3.8.10 64-bit"
        },
        "interpreter": {
            "hash": "916dbcbb3f70747c44a77c7bcd40155683ae19c65e1c03b4aa3499c5328201f1"
        }
    },
    "nbformat": 4,
    "nbformat_minor": 2
}
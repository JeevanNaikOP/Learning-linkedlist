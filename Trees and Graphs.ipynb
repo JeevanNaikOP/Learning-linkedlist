{
    "cells": [
        {
            "cell_type": "code",
            "execution_count": 4,
            "source": [
                "def binary_search(sorted_list,k):\n",
                "    min=0\n",
                "    max=len(sorted_list)\n",
                "    while(min<=max):\n",
                "        mid=(min+max)//2\n",
                "        if sorted_list[mid]==k:\n",
                "            return mid\n",
                "        elif sorted_list[mid]<k:\n",
                "            min=mid+1\n",
                "        else:\n",
                "            max=mid-1    \n",
                "    return -1        \n"
            ],
            "outputs": [],
            "metadata": {}
        },
        {
            "cell_type": "code",
            "execution_count": 5,
            "source": [
                "n=[1,2,3,4,5,6,7]\n",
                "binary_search(n,6)"
            ],
            "outputs": [
                {
                    "output_type": "execute_result",
                    "data": {
                        "text/plain": [
                            "5"
                        ]
                    },
                    "metadata": {},
                    "execution_count": 5
                }
            ],
            "metadata": {}
        },
        {
            "cell_type": "code",
            "execution_count": null,
            "source": [],
            "outputs": [],
            "metadata": {}
        }
    ],
    "metadata": {
        "orig_nbformat": 4,
        "language_info": {
            "name": "python",
            "version": "3.8.10",
            "mimetype": "text/x-python",
            "codemirror_mode": {
                "name": "ipython",
                "version": 3
            },
            "pygments_lexer": "ipython3",
            "nbconvert_exporter": "python",
            "file_extension": ".py"
        },
        "kernelspec": {
            "name": "python3",
            "display_name": "Python 3.8.10 64-bit"
        },
        "interpreter": {
            "hash": "916dbcbb3f70747c44a77c7bcd40155683ae19c65e1c03b4aa3499c5328201f1"
        }
    },
    "nbformat": 4,
    "nbformat_minor": 2
}
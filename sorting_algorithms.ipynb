{
    "cells": [
        {
            "cell_type": "code",
            "execution_count": 2,
            "source": [
                "def print_list(num_list):\n",
                "    print(num_list)"
            ],
            "outputs": [],
            "metadata": {}
        },
        {
            "cell_type": "markdown",
            "source": [
                "1.  Selection sort"
            ],
            "metadata": {}
        },
        {
            "cell_type": "code",
            "execution_count": 15,
            "source": [
                "def selection(original):\n",
                "    for i in range(len(original)):\n",
                "        min=i\n",
                "        for j in range(i+1,len(original)):\n",
                "            if original[min] > original[j]:\n",
                "                min=j\n",
                "        original[min],original[i]=original[i],original[min]\n",
                "        print_list(original)\n",
                "    print_list(original)  "
            ],
            "outputs": [],
            "metadata": {}
        },
        {
            "cell_type": "code",
            "execution_count": 16,
            "source": [
                "n=[9,8,7,6,5,4,3,1,2]\n",
                "selection(n)"
            ],
            "outputs": [
                {
                    "output_type": "stream",
                    "name": "stdout",
                    "text": [
                        "[1, 8, 7, 6, 5, 4, 3, 9, 2]\n",
                        "[1, 2, 7, 6, 5, 4, 3, 9, 8]\n",
                        "[1, 2, 3, 6, 5, 4, 7, 9, 8]\n",
                        "[1, 2, 3, 4, 5, 6, 7, 9, 8]\n",
                        "[1, 2, 3, 4, 5, 6, 7, 9, 8]\n",
                        "[1, 2, 3, 4, 5, 6, 7, 9, 8]\n",
                        "[1, 2, 3, 4, 5, 6, 7, 9, 8]\n",
                        "[1, 2, 3, 4, 5, 6, 7, 8, 9]\n",
                        "[1, 2, 3, 4, 5, 6, 7, 8, 9]\n",
                        "[1, 2, 3, 4, 5, 6, 7, 8, 9]\n"
                    ]
                }
            ],
            "metadata": {}
        },
        {
            "cell_type": "code",
            "execution_count": 22,
            "source": [
                "n=[9,8,7,6,5,4,3,2,1]"
            ],
            "outputs": [],
            "metadata": {}
        },
        {
            "cell_type": "markdown",
            "source": [
                "2. Bubble sort"
            ],
            "metadata": {}
        },
        {
            "cell_type": "code",
            "execution_count": 23,
            "source": [
                "def bubble(original):\n",
                "    k=len(original)\n",
                "    for i in range(k-1,0,-1):\n",
                "        for j in range(i):\n",
                "            if original[j]>original[j+1]:\n",
                "                original[j],original[j+1]=original[j+1],original[j]\n",
                "                print_list(original)\n",
                "    print_list(original)            \n"
            ],
            "outputs": [],
            "metadata": {}
        },
        {
            "cell_type": "code",
            "execution_count": 24,
            "source": [
                "bubble(n)"
            ],
            "outputs": [
                {
                    "output_type": "stream",
                    "name": "stdout",
                    "text": [
                        "[8, 9, 7, 6, 5, 4, 3, 2, 1]\n",
                        "[8, 7, 9, 6, 5, 4, 3, 2, 1]\n",
                        "[8, 7, 6, 9, 5, 4, 3, 2, 1]\n",
                        "[8, 7, 6, 5, 9, 4, 3, 2, 1]\n",
                        "[8, 7, 6, 5, 4, 9, 3, 2, 1]\n",
                        "[8, 7, 6, 5, 4, 3, 9, 2, 1]\n",
                        "[8, 7, 6, 5, 4, 3, 2, 9, 1]\n",
                        "[8, 7, 6, 5, 4, 3, 2, 1, 9]\n",
                        "[7, 8, 6, 5, 4, 3, 2, 1, 9]\n",
                        "[7, 6, 8, 5, 4, 3, 2, 1, 9]\n",
                        "[7, 6, 5, 8, 4, 3, 2, 1, 9]\n",
                        "[7, 6, 5, 4, 8, 3, 2, 1, 9]\n",
                        "[7, 6, 5, 4, 3, 8, 2, 1, 9]\n",
                        "[7, 6, 5, 4, 3, 2, 8, 1, 9]\n",
                        "[7, 6, 5, 4, 3, 2, 1, 8, 9]\n",
                        "[6, 7, 5, 4, 3, 2, 1, 8, 9]\n",
                        "[6, 5, 7, 4, 3, 2, 1, 8, 9]\n",
                        "[6, 5, 4, 7, 3, 2, 1, 8, 9]\n",
                        "[6, 5, 4, 3, 7, 2, 1, 8, 9]\n",
                        "[6, 5, 4, 3, 2, 7, 1, 8, 9]\n",
                        "[6, 5, 4, 3, 2, 1, 7, 8, 9]\n",
                        "[5, 6, 4, 3, 2, 1, 7, 8, 9]\n",
                        "[5, 4, 6, 3, 2, 1, 7, 8, 9]\n",
                        "[5, 4, 3, 6, 2, 1, 7, 8, 9]\n",
                        "[5, 4, 3, 2, 6, 1, 7, 8, 9]\n",
                        "[5, 4, 3, 2, 1, 6, 7, 8, 9]\n",
                        "[4, 5, 3, 2, 1, 6, 7, 8, 9]\n",
                        "[4, 3, 5, 2, 1, 6, 7, 8, 9]\n",
                        "[4, 3, 2, 5, 1, 6, 7, 8, 9]\n",
                        "[4, 3, 2, 1, 5, 6, 7, 8, 9]\n",
                        "[3, 4, 2, 1, 5, 6, 7, 8, 9]\n",
                        "[3, 2, 4, 1, 5, 6, 7, 8, 9]\n",
                        "[3, 2, 1, 4, 5, 6, 7, 8, 9]\n",
                        "[2, 3, 1, 4, 5, 6, 7, 8, 9]\n",
                        "[2, 1, 3, 4, 5, 6, 7, 8, 9]\n",
                        "[1, 2, 3, 4, 5, 6, 7, 8, 9]\n",
                        "[1, 2, 3, 4, 5, 6, 7, 8, 9]\n"
                    ]
                }
            ],
            "metadata": {}
        },
        {
            "cell_type": "markdown",
            "source": [
                "3. insertion sort"
            ],
            "metadata": {}
        },
        {
            "cell_type": "code",
            "execution_count": 25,
            "source": [
                "def insertion(original):\n",
                "    k=len(original)\n",
                "    for i in range(k-1):\n",
                "        for j in range(i+1,0,-1):\n",
                "            if original[j]< original[j-1]:\n",
                "                original[j],original[j-1]=original[j-1],original[j]\n",
                "    print_list(original)            "
            ],
            "outputs": [],
            "metadata": {}
        },
        {
            "cell_type": "code",
            "execution_count": 26,
            "source": [
                "n=[8, 7, 6, 5, 4, 9, 3, 2, 1]\n",
                "insertion(n)"
            ],
            "outputs": [
                {
                    "output_type": "stream",
                    "name": "stdout",
                    "text": [
                        "[1, 2, 3, 4, 5, 6, 7, 8, 9]\n"
                    ]
                }
            ],
            "metadata": {}
        },
        {
            "cell_type": "markdown",
            "source": [
                "4. Shell sort"
            ],
            "metadata": {}
        },
        {
            "cell_type": "code",
            "execution_count": 55,
            "source": [
                "def shell(original):\n",
                "    l=len(original)\n",
                "    g=l//2\n",
                "    while g > 0:\n",
                "        for i in range(g,l):\n",
                "            temp=original[i]\n",
                "            j=i\n",
                "            while j >= g and original[j-g] > temp:\n",
                "                original[j]=original[j-g]\n",
                "                j-=g\n",
                "            original[j]=temp\n",
                "            print(g)\n",
                "            print_list(original)\n",
                "        g=g//2        "
            ],
            "outputs": [],
            "metadata": {}
        },
        {
            "cell_type": "code",
            "execution_count": 56,
            "source": [
                "n=[9,8,7,6,5,4,3,2,1,0]\n",
                "shell(n)"
            ],
            "outputs": [
                {
                    "output_type": "stream",
                    "name": "stdout",
                    "text": [
                        "5\n",
                        "[4, 8, 7, 6, 5, 9, 3, 2, 1, 0]\n",
                        "5\n",
                        "[4, 3, 7, 6, 5, 9, 8, 2, 1, 0]\n",
                        "5\n",
                        "[4, 3, 2, 6, 5, 9, 8, 7, 1, 0]\n",
                        "5\n",
                        "[4, 3, 2, 1, 5, 9, 8, 7, 6, 0]\n",
                        "5\n",
                        "[4, 3, 2, 1, 0, 9, 8, 7, 6, 5]\n",
                        "2\n",
                        "[2, 3, 4, 1, 0, 9, 8, 7, 6, 5]\n",
                        "2\n",
                        "[2, 1, 4, 3, 0, 9, 8, 7, 6, 5]\n",
                        "2\n",
                        "[0, 1, 2, 3, 4, 9, 8, 7, 6, 5]\n",
                        "2\n",
                        "[0, 1, 2, 3, 4, 9, 8, 7, 6, 5]\n",
                        "2\n",
                        "[0, 1, 2, 3, 4, 9, 8, 7, 6, 5]\n",
                        "2\n",
                        "[0, 1, 2, 3, 4, 7, 8, 9, 6, 5]\n",
                        "2\n",
                        "[0, 1, 2, 3, 4, 7, 6, 9, 8, 5]\n",
                        "2\n",
                        "[0, 1, 2, 3, 4, 5, 6, 7, 8, 9]\n",
                        "1\n",
                        "[0, 1, 2, 3, 4, 5, 6, 7, 8, 9]\n",
                        "1\n",
                        "[0, 1, 2, 3, 4, 5, 6, 7, 8, 9]\n",
                        "1\n",
                        "[0, 1, 2, 3, 4, 5, 6, 7, 8, 9]\n",
                        "1\n",
                        "[0, 1, 2, 3, 4, 5, 6, 7, 8, 9]\n",
                        "1\n",
                        "[0, 1, 2, 3, 4, 5, 6, 7, 8, 9]\n",
                        "1\n",
                        "[0, 1, 2, 3, 4, 5, 6, 7, 8, 9]\n",
                        "1\n",
                        "[0, 1, 2, 3, 4, 5, 6, 7, 8, 9]\n",
                        "1\n",
                        "[0, 1, 2, 3, 4, 5, 6, 7, 8, 9]\n",
                        "1\n",
                        "[0, 1, 2, 3, 4, 5, 6, 7, 8, 9]\n"
                    ]
                }
            ],
            "metadata": {}
        },
        {
            "cell_type": "markdown",
            "source": [
                "5. Merge sort"
            ],
            "metadata": {}
        },
        {
            "cell_type": "code",
            "execution_count": 13,
            "source": [
                "def merge(original):\n",
                "    if len(original) <=1:\n",
                "        return\n",
                "    mid= len(original)//2\n",
                "    left= original[:mid]\n",
                "    right= original[mid:]\n",
                "    merge(left) \n",
                "    merge(right)\n",
                "    i,j,k=0,0,0\n",
                "    while i < len(left) and j < len(right):\n",
                "        if left[i] < right[j]:\n",
                "            original[k]=left[i]\n",
                "            i+=1\n",
                "        else:\n",
                "            original[k]=right[j]    \n",
                "            j+=1\n",
                "        k+=1\n",
                "    while i < len(left):\n",
                "        original[k]=left[i]   \n",
                "        i+=1\n",
                "        k+=1\n",
                "    while j< len(right):\n",
                "        original[k]=right[j]\n",
                "        j+=1\n",
                "        k+=1\n",
                "                   "
            ],
            "outputs": [],
            "metadata": {}
        },
        {
            "cell_type": "code",
            "execution_count": 14,
            "source": [
                "n=[9,8,7,6,5,4,3,2,1,0]\n",
                "merge(n)\n",
                "print_list(n)"
            ],
            "outputs": [
                {
                    "output_type": "stream",
                    "name": "stdout",
                    "text": [
                        "[0, 1, 2, 3, 4, 5, 6, 7, 8, 9]\n"
                    ]
                }
            ],
            "metadata": {}
        },
        {
            "cell_type": "markdown",
            "source": [
                "6. Quick sort"
            ],
            "metadata": {}
        },
        {
            "cell_type": "code",
            "execution_count": 25,
            "source": [
                "def partition(original,start,end):\n",
                "    curr=start\n",
                "    p=original[end]\n",
                "    for i in range(start,end):\n",
                "        if original[i]<=p:\n",
                "            original[curr],original[i]=original[i],original[curr]\n",
                "            curr+=1\n",
                "    original[curr],original[end]=original[end],original[curr]\n",
                "    return curr  \n",
                "\n",
                "def quicksort(original,start,end):\n",
                "    if start >= end:\n",
                "        return\n",
                "    pi=partition(original,start,end)\n",
                "    print('element in right place',original[pi])\n",
                "    print_list(original)\n",
                "    quicksort(original,start,pi-1)\n",
                "    quicksort(original,pi+1,end)              "
            ],
            "outputs": [],
            "metadata": {}
        },
        {
            "cell_type": "code",
            "execution_count": 27,
            "source": [
                "n=[9,8,7,6,5,4,3,2,1,0]\n",
                "quicksort(n,0,len(n)-1)"
            ],
            "outputs": [
                {
                    "output_type": "stream",
                    "name": "stdout",
                    "text": [
                        "element in right place 0\n",
                        "[0, 8, 7, 6, 5, 4, 3, 2, 1, 9]\n",
                        "element in right place 9\n",
                        "[0, 8, 7, 6, 5, 4, 3, 2, 1, 9]\n",
                        "element in right place 1\n",
                        "[0, 1, 7, 6, 5, 4, 3, 2, 8, 9]\n",
                        "element in right place 8\n",
                        "[0, 1, 7, 6, 5, 4, 3, 2, 8, 9]\n",
                        "element in right place 2\n",
                        "[0, 1, 2, 6, 5, 4, 3, 7, 8, 9]\n",
                        "element in right place 7\n",
                        "[0, 1, 2, 6, 5, 4, 3, 7, 8, 9]\n",
                        "element in right place 3\n",
                        "[0, 1, 2, 3, 5, 4, 6, 7, 8, 9]\n",
                        "element in right place 6\n",
                        "[0, 1, 2, 3, 5, 4, 6, 7, 8, 9]\n",
                        "element in right place 4\n",
                        "[0, 1, 2, 3, 4, 5, 6, 7, 8, 9]\n"
                    ]
                }
            ],
            "metadata": {}
        },
        {
            "cell_type": "code",
            "execution_count": null,
            "source": [],
            "outputs": [],
            "metadata": {}
        }
    ],
    "metadata": {
        "orig_nbformat": 4,
        "language_info": {
            "name": "python",
            "version": "3.8.10",
            "mimetype": "text/x-python",
            "codemirror_mode": {
                "name": "ipython",
                "version": 3
            },
            "pygments_lexer": "ipython3",
            "nbconvert_exporter": "python",
            "file_extension": ".py"
        },
        "kernelspec": {
            "name": "python3",
            "display_name": "Python 3.8.10 64-bit"
        },
        "interpreter": {
            "hash": "916dbcbb3f70747c44a77c7bcd40155683ae19c65e1c03b4aa3499c5328201f1"
        }
    },
    "nbformat": 4,
    "nbformat_minor": 2
}
{
    "cells": [
        {
            "cell_type": "code",
            "execution_count": 14,
            "source": [
                "def print_list(num_list):\n",
                "    print(num_list)"
            ],
            "outputs": [],
            "metadata": {}
        },
        {
            "cell_type": "code",
            "execution_count": 15,
            "source": [
                "def selection(original):\n",
                "    for i in range(len(original)):\n",
                "        min=i\n",
                "        for j in range(i+1,len(original)):\n",
                "            if original[min] > original[j]:\n",
                "                min=j\n",
                "        original[min],original[i]=original[i],original[min]\n",
                "        print_list(original)\n",
                "    print_list(original)  "
            ],
            "outputs": [],
            "metadata": {}
        },
        {
            "cell_type": "code",
            "execution_count": 16,
            "source": [
                "n=[9,8,7,6,5,4,3,1,2]\n",
                "selection(n)"
            ],
            "outputs": [
                {
                    "output_type": "stream",
                    "name": "stdout",
                    "text": [
                        "[1, 8, 7, 6, 5, 4, 3, 9, 2]\n",
                        "[1, 2, 7, 6, 5, 4, 3, 9, 8]\n",
                        "[1, 2, 3, 6, 5, 4, 7, 9, 8]\n",
                        "[1, 2, 3, 4, 5, 6, 7, 9, 8]\n",
                        "[1, 2, 3, 4, 5, 6, 7, 9, 8]\n",
                        "[1, 2, 3, 4, 5, 6, 7, 9, 8]\n",
                        "[1, 2, 3, 4, 5, 6, 7, 9, 8]\n",
                        "[1, 2, 3, 4, 5, 6, 7, 8, 9]\n",
                        "[1, 2, 3, 4, 5, 6, 7, 8, 9]\n",
                        "[1, 2, 3, 4, 5, 6, 7, 8, 9]\n"
                    ]
                }
            ],
            "metadata": {}
        },
        {
            "cell_type": "code",
            "execution_count": 22,
            "source": [
                "n=[9,8,7,6,5,4,3,2,1]"
            ],
            "outputs": [],
            "metadata": {}
        },
        {
            "cell_type": "code",
            "execution_count": 23,
            "source": [
                "def bubble(original):\n",
                "    k=len(original)\n",
                "    for i in range(k-1,0,-1):\n",
                "        for j in range(i):\n",
                "            if original[j]>original[j+1]:\n",
                "                original[j],original[j+1]=original[j+1],original[j]\n",
                "                print_list(original)\n",
                "    print_list(original)            \n"
            ],
            "outputs": [],
            "metadata": {}
        },
        {
            "cell_type": "code",
            "execution_count": 24,
            "source": [
                "bubble(n)"
            ],
            "outputs": [
                {
                    "output_type": "stream",
                    "name": "stdout",
                    "text": [
                        "[8, 9, 7, 6, 5, 4, 3, 2, 1]\n",
                        "[8, 7, 9, 6, 5, 4, 3, 2, 1]\n",
                        "[8, 7, 6, 9, 5, 4, 3, 2, 1]\n",
                        "[8, 7, 6, 5, 9, 4, 3, 2, 1]\n",
                        "[8, 7, 6, 5, 4, 9, 3, 2, 1]\n",
                        "[8, 7, 6, 5, 4, 3, 9, 2, 1]\n",
                        "[8, 7, 6, 5, 4, 3, 2, 9, 1]\n",
                        "[8, 7, 6, 5, 4, 3, 2, 1, 9]\n",
                        "[7, 8, 6, 5, 4, 3, 2, 1, 9]\n",
                        "[7, 6, 8, 5, 4, 3, 2, 1, 9]\n",
                        "[7, 6, 5, 8, 4, 3, 2, 1, 9]\n",
                        "[7, 6, 5, 4, 8, 3, 2, 1, 9]\n",
                        "[7, 6, 5, 4, 3, 8, 2, 1, 9]\n",
                        "[7, 6, 5, 4, 3, 2, 8, 1, 9]\n",
                        "[7, 6, 5, 4, 3, 2, 1, 8, 9]\n",
                        "[6, 7, 5, 4, 3, 2, 1, 8, 9]\n",
                        "[6, 5, 7, 4, 3, 2, 1, 8, 9]\n",
                        "[6, 5, 4, 7, 3, 2, 1, 8, 9]\n",
                        "[6, 5, 4, 3, 7, 2, 1, 8, 9]\n",
                        "[6, 5, 4, 3, 2, 7, 1, 8, 9]\n",
                        "[6, 5, 4, 3, 2, 1, 7, 8, 9]\n",
                        "[5, 6, 4, 3, 2, 1, 7, 8, 9]\n",
                        "[5, 4, 6, 3, 2, 1, 7, 8, 9]\n",
                        "[5, 4, 3, 6, 2, 1, 7, 8, 9]\n",
                        "[5, 4, 3, 2, 6, 1, 7, 8, 9]\n",
                        "[5, 4, 3, 2, 1, 6, 7, 8, 9]\n",
                        "[4, 5, 3, 2, 1, 6, 7, 8, 9]\n",
                        "[4, 3, 5, 2, 1, 6, 7, 8, 9]\n",
                        "[4, 3, 2, 5, 1, 6, 7, 8, 9]\n",
                        "[4, 3, 2, 1, 5, 6, 7, 8, 9]\n",
                        "[3, 4, 2, 1, 5, 6, 7, 8, 9]\n",
                        "[3, 2, 4, 1, 5, 6, 7, 8, 9]\n",
                        "[3, 2, 1, 4, 5, 6, 7, 8, 9]\n",
                        "[2, 3, 1, 4, 5, 6, 7, 8, 9]\n",
                        "[2, 1, 3, 4, 5, 6, 7, 8, 9]\n",
                        "[1, 2, 3, 4, 5, 6, 7, 8, 9]\n",
                        "[1, 2, 3, 4, 5, 6, 7, 8, 9]\n"
                    ]
                }
            ],
            "metadata": {}
        },
        {
            "cell_type": "code",
            "execution_count": null,
            "source": [],
            "outputs": [],
            "metadata": {}
        }
    ],
    "metadata": {
        "orig_nbformat": 4,
        "language_info": {
            "name": "python",
            "version": "3.8.10",
            "mimetype": "text/x-python",
            "codemirror_mode": {
                "name": "ipython",
                "version": 3
            },
            "pygments_lexer": "ipython3",
            "nbconvert_exporter": "python",
            "file_extension": ".py"
        },
        "kernelspec": {
            "name": "python3",
            "display_name": "Python 3.8.10 64-bit"
        },
        "interpreter": {
            "hash": "916dbcbb3f70747c44a77c7bcd40155683ae19c65e1c03b4aa3499c5328201f1"
        }
    },
    "nbformat": 4,
    "nbformat_minor": 2
}
{
    "cells": [
        {
            "cell_type": "code",
            "execution_count": 3,
            "source": [
                "def print_list(num_list):\n",
                "    print(num_list)"
            ],
            "outputs": [],
            "metadata": {}
        },
        {
            "cell_type": "code",
            "execution_count": 4,
            "source": [
                "def selection(original):\n",
                "    for i in range(len(original)):\n",
                "        min=i\n",
                "        for j in range(i+1,len(original)):\n",
                "            if original[min] > original[j]:\n",
                "                min=j\n",
                "        original[min],original[i]=original[i],original[min]\n",
                "        print_list(original)\n",
                "    print_list(original)  "
            ],
            "outputs": [],
            "metadata": {}
        },
        {
            "cell_type": "code",
            "execution_count": 5,
            "source": [
                "n=[9,8,7,6,5,4,3,1,2]\n",
                "selection(n)"
            ],
            "outputs": [
                {
                    "output_type": "stream",
                    "name": "stdout",
                    "text": [
                        "[1, 8, 7, 6, 5, 4, 3, 9, 2]\n",
                        "[1, 2, 7, 6, 5, 4, 3, 9, 8]\n",
                        "[1, 2, 3, 6, 5, 4, 7, 9, 8]\n",
                        "[1, 2, 3, 4, 5, 6, 7, 9, 8]\n",
                        "[1, 2, 3, 4, 5, 6, 7, 9, 8]\n",
                        "[1, 2, 3, 4, 5, 6, 7, 9, 8]\n",
                        "[1, 2, 3, 4, 5, 6, 7, 9, 8]\n",
                        "[1, 2, 3, 4, 5, 6, 7, 8, 9]\n",
                        "[1, 2, 3, 4, 5, 6, 7, 8, 9]\n",
                        "[1, 2, 3, 4, 5, 6, 7, 8, 9]\n"
                    ]
                }
            ],
            "metadata": {}
        },
        {
            "cell_type": "code",
            "execution_count": null,
            "source": [],
            "outputs": [],
            "metadata": {}
        }
    ],
    "metadata": {
        "orig_nbformat": 4,
        "language_info": {
            "name": "python",
            "version": "3.8.10",
            "mimetype": "text/x-python",
            "codemirror_mode": {
                "name": "ipython",
                "version": 3
            },
            "pygments_lexer": "ipython3",
            "nbconvert_exporter": "python",
            "file_extension": ".py"
        },
        "kernelspec": {
            "name": "python3",
            "display_name": "Python 3.8.10 64-bit"
        },
        "interpreter": {
            "hash": "916dbcbb3f70747c44a77c7bcd40155683ae19c65e1c03b4aa3499c5328201f1"
        }
    },
    "nbformat": 4,
    "nbformat_minor": 2
}